{
 "cells": [
  {
   "cell_type": "markdown",
   "id": "c7b10b1f-78b6-4720-a772-5be5dc95cf15",
   "metadata": {},
   "source": [
    "# My Jupyter Notebook on IBM Watson Studio"
   ]
  },
  {
   "cell_type": "markdown",
   "id": "23d0a988-70f4-4393-9edc-9a8038cd4ae4",
   "metadata": {},
   "source": [
    "**Omar Youssef** <br>\n",
    "Data wiz"
   ]
  },
  {
   "cell_type": "markdown",
   "id": "c7ed019a-17dd-455b-96ba-c199d393ebc1",
   "metadata": {},
   "source": [
    "*I'm interested in DATA science because it's awesome!*"
   ]
  },
  {
   "cell_type": "markdown",
   "id": "2ae3db81-31e4-4e12-85f8-c6898be66706",
   "metadata": {},
   "source": [
    "### My code should print out something really interesting"
   ]
  },
  {
   "cell_type": "code",
   "execution_count": 4,
   "id": "0d2ce978-9fa4-4e95-bec8-3f721982746d",
   "metadata": {},
   "outputs": [
    {
     "name": "stdout",
     "output_type": "stream",
     "text": [
      " Something REALLY interesting \n"
     ]
    }
   ],
   "source": [
    "print (\" Something REALLY interesting \" )"
   ]
  },
  {
   "cell_type": "markdown",
   "id": "b8a52923-571a-41f5-87ed-c4436f3643f7",
   "metadata": {},
   "source": [
    "> [here is the link for the answer to the life the universe and everything please click the link] (https://i.imgur.com/RTkkQgm.jpeg) <br> \n",
    "\n",
    "\n"
   ]
  },
  {
   "cell_type": "code",
   "execution_count": null,
   "id": "edd5716c-2fe2-45e5-a437-0217e8e114b1",
   "metadata": {},
   "outputs": [],
   "source": []
  }
 ],
 "metadata": {
  "kernelspec": {
   "display_name": "Python",
   "language": "python",
   "name": "conda-env-python-py"
  },
  "language_info": {
   "codemirror_mode": {
    "name": "ipython",
    "version": 3
   },
   "file_extension": ".py",
   "mimetype": "text/x-python",
   "name": "python",
   "nbconvert_exporter": "python",
   "pygments_lexer": "ipython3",
   "version": "3.7.12"
  },
  "toc-showmarkdowntxt": false
 },
 "nbformat": 4,
 "nbformat_minor": 5
}
